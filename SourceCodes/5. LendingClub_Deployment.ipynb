{
 "cells": [
  {
   "cell_type": "markdown",
   "metadata": {},
   "source": [
    "## LendingClub - Deployment\n",
    "In this notebook, we will develop a routine to iterate through all the downloaded Loans data files (in csv format) copied to the \"./Dataset/Processing\" folder and to perform prediction on each data file.\n",
    "\n",
    "The loans data that are likely to default for each input data file are then saved to a \"xxx_Predictions.csv\" file in the \"./Dataset/Predictions\" folder for further processing."
   ]
  },
  {
   "cell_type": "code",
   "execution_count": 3,
   "metadata": {
    "collapsed": true
   },
   "outputs": [],
   "source": [
    "from pyspark.sql.functions import col, udf\n",
    "from pyspark.sql.types import *\n",
    "from pyspark.ml import Pipeline\n",
    "from pyspark.ml import PipelineModel\n",
    "import os\n",
    "import shutil\n",
    "\n",
    "# Selected Features for model input\n",
    "selectedFeatures = [\"int_rate\", \"loan_amnt\", \"total_pymnt\", \"out_prncp\", \"policy_code\"]\n",
    "\n",
    "fileDirectory = './Dataset/Processing/'\n",
    "for fname in os.listdir(fileDirectory):  \n",
    "    \n",
    "    # extract data file name from full path\n",
    "    filename = fname[0:len(fname)-4]\n",
    "    \n",
    "    # Load LoanStatsDF dataset\n",
    "    LoanStatsDF = spark.read.csv(fileDirectory + fname, header=True, inferSchema=True, mode=\"DROPMALFORMED\")\n",
    "    \n",
    "    # Converts numeric percentage string with \"%\" suffix to Float datatype\n",
    "    func3 = udf (lambda x: 0.0 if x == None else float(x.strip('%'))/100.0, FloatType())\n",
    "    # Process numeric percentage string columns in LoanStatsDF dataframe to convert to Float datatype\n",
    "    LoanStatsML_df = LoanStatsDF.withColumn('int_rate', func3(col('int_rate')))\n",
    "    \n",
    "    # Load saved model and perform prediction on LoanStatsML_df data\n",
    "    model = PipelineModel.load(\"./Model/LoanStats_model\")\n",
    "    predictions = model.transform(LoanStatsML_df)\n",
    "    \n",
    "    predictions_Filter = predictions.filter(predictions.prediction == \"1.0\")\n",
    "    \n",
    "    predictions_Filter.toPandas().to_csv(\"./Dataset/Predictions/\" + filename + \"_Predictions.csv\", sep=',')"
   ]
  },
  {
   "cell_type": "code",
   "execution_count": null,
   "metadata": {
    "collapsed": true
   },
   "outputs": [],
   "source": []
  }
 ],
 "metadata": {
  "kernelspec": {
   "display_name": "Python 3",
   "language": "python",
   "name": "python3"
  },
  "language_info": {
   "codemirror_mode": {
    "name": "ipython",
    "version": 3
   },
   "file_extension": ".py",
   "mimetype": "text/x-python",
   "name": "python",
   "nbconvert_exporter": "python",
   "pygments_lexer": "ipython3",
   "version": "3.6.3"
  }
 },
 "nbformat": 4,
 "nbformat_minor": 1
}
